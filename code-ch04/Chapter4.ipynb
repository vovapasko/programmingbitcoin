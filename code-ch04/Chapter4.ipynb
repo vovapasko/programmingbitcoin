{
 "cells": [
  {
   "cell_type": "code",
   "execution_count": 2,
   "metadata": {},
   "outputs": [],
   "source": [
    "############## PLEASE RUN THIS CELL FIRST! ###################\n",
    "\n",
    "# import everything and define a test runner function\n",
    "from importlib import reload\n",
    "from helper import run\n",
    "import ecc\n",
    "import helper"
   ]
  },
  {
   "cell_type": "markdown",
   "metadata": {},
   "source": [
    "### Exercise 1\n",
    "\n",
    "Find the uncompressed SEC format for the Public Key where the Private Key secrets are:\n",
    "\n",
    "* 5000\n",
    "* \\\\(2018^{5}\\\\)\n",
    "* 0xdeadbeef12345"
   ]
  },
  {
   "cell_type": "code",
   "execution_count": 3,
   "metadata": {},
   "outputs": [
    {
     "name": "stdout",
     "output_type": "stream",
     "text": [
      "04ffe558e388852f0120e46af2d1b370f85854a8eb0841811ece0e3e03d282d57c315dc72890a4f10a1481c031b03b351b0dc79901ca18a00cf009dbdb157a1d10\n",
      "04027f3da1918455e03c46f659266a1bb5204e959db7364d2f473bdf8f0a13cc9dff87647fd023c13b4a4994f17691895806e1b40b57f4fd22581a4f46851f3b06\n",
      "04d90cd625ee87dd38656dd95cf79f65f60f7273b67d3096e68bd81e4f5342691f842efa762fd59961d0e99803c61edba8b3e3f7dc3a341836f97733aebf987121\n"
     ]
    }
   ],
   "source": [
    "# Exercise 1\n",
    "\n",
    "from ecc import PrivateKey\n",
    "\n",
    "def pidor(p1, compressed=False):\n",
    "    return p1.point.sec(compressed=compressed).hex()\n",
    "# 5000\n",
    "# 2018**5\n",
    "# 0xdeadbeef12345\n",
    "# privatekey.point is the public key for a private key\n",
    "p1 = PrivateKey(secret=5000)\n",
    "p2 = PrivateKey(secret=2018**5)\n",
    "p3 = PrivateKey(secret=0xdeadbeef12345)\n",
    "print(pidor(p1))\n",
    "print(pidor(p2))\n",
    "print(pidor(p3))\n",
    "\n"
   ]
  },
  {
   "cell_type": "markdown",
   "metadata": {},
   "source": [
    "### Exercise 2\n",
    "\n",
    "Find the Compressed SEC format for the Public Key where the Private Key secrets are:\n",
    "\n",
    "* 5001\n",
    "* \\\\(2019^{5}\\\\)\n",
    "* 0xdeadbeef54321"
   ]
  },
  {
   "cell_type": "code",
   "execution_count": 4,
   "metadata": {},
   "outputs": [
    {
     "name": "stdout",
     "output_type": "stream",
     "text": [
      "02ffe558e388852f0120e46af2d1b370f85854a8eb0841811ece0e3e03d282d57c\n",
      "02027f3da1918455e03c46f659266a1bb5204e959db7364d2f473bdf8f0a13cc9d\n",
      "03d90cd625ee87dd38656dd95cf79f65f60f7273b67d3096e68bd81e4f5342691f\n"
     ]
    }
   ],
   "source": [
    "# Exercise 2\n",
    "\n",
    "from ecc import PrivateKey\n",
    "\n",
    "# 5001\n",
    "# 2019**5\n",
    "# 0xdeadbeef54321\n",
    "\n",
    "p1 = PrivateKey(secret=5000)\n",
    "p2 = PrivateKey(secret=2018**5)\n",
    "p3 = PrivateKey(secret=0xdeadbeef12345)\n",
    "print(pidor(p1, compressed=True))\n",
    "print(pidor(p2, compressed=True))\n",
    "print(pidor(p3, compressed=True))"
   ]
  },
  {
   "cell_type": "markdown",
   "metadata": {},
   "source": [
    "### Exercise 3\n",
    "\n",
    "Find the DER format for a signature whose `r` and `s` values are:\n",
    "\n",
    "* r =\n",
    "\n",
    "`0x37206a0610995c58074999cb9767b87af4c4978db68c06e8e6e81d282047a7c6`\n",
    "\n",
    "* s =\n",
    "\n",
    "`0x8ca63759c1157ebeaec0d03cecca119fc9a75bf8e6d0fa65c841c8e2738cdaec`"
   ]
  },
  {
   "cell_type": "code",
   "execution_count": 6,
   "metadata": {},
   "outputs": [
    {
     "name": "stdout",
     "output_type": "stream",
     "text": [
      "3045022037206a0610995c58074999cb9767b87af4c4978db68c06e8e6e81d282047a7c60221008ca63759c1157ebeaec0d03cecca119fc9a75bf8e6d0fa65c841c8e2738cdaec\n"
     ]
    }
   ],
   "source": [
    "# Exercise 3\n",
    "\n",
    "from ecc import Signature\n",
    "\n",
    "r = 0x37206a0610995c58074999cb9767b87af4c4978db68c06e8e6e81d282047a7c6\n",
    "s = 0x8ca63759c1157ebeaec0d03cecca119fc9a75bf8e6d0fa65c841c8e2738cdaec\n",
    "\n",
    "signature = Signature(r, s)\n",
    "der = signature.der().hex()\n",
    "print(der)"
   ]
  },
  {
   "cell_type": "markdown",
   "metadata": {},
   "source": [
    "### Exercise 4\n",
    "\n",
    "Convert the following hex to binary and then to Base58:\n",
    "\n",
    "* `7c076ff316692a3d7eb3c3bb0f8b1488cf72e1afcd929e29307032997a838a3d`\n",
    "* `eff69ef2b1bd93a66ed5219add4fb51e11a840f404876325a1e8ffe0529a2c`\n",
    "* `c7207fee197d27c618aea621406f6bf5ef6fca38681d82b2f06fddbdce6feab6`"
   ]
  },
  {
   "cell_type": "code",
   "execution_count": 16,
   "metadata": {},
   "outputs": [
    {
     "name": "stdout",
     "output_type": "stream",
     "text": [
      "9MA8fRQrT4u8Zj8ZRd6MAiiyaxb2Y1CMpvVkHQu5hVM6\n",
      "4fE3H2E6XMp4SsxtwinF7w9a34ooUrwWe4WsW1458Pd\n",
      "EQJsjkd6JaGwxrjEhfeqPenqHwrBmPQZjJGNSCHBkcF7\n"
     ]
    }
   ],
   "source": [
    "# Exercise 4\n",
    "\n",
    "from helper import encode_base58\n",
    "\n",
    "print(encode_base58(bytes.fromhex('7c076ff316692a3d7eb3c3bb0f8b1488cf72e1afcd929e29307032997a838a3d')))\n",
    "print(encode_base58(bytes.fromhex('eff69ef2b1bd93a66ed5219add4fb51e11a840f404876325a1e8ffe0529a2c')))\n",
    "print(encode_base58(bytes.fromhex('c7207fee197d27c618aea621406f6bf5ef6fca38681d82b2f06fddbdce6feab6')))"
   ]
  },
  {
   "cell_type": "markdown",
   "metadata": {},
   "source": [
    "### Exercise 5\n",
    "\n",
    "Find the address corresponding to Public Keys whose Private Key secrets are:\n",
    "\n",
    "* 5002 (use uncompressed SEC, on testnet)\n",
    "* \\\\(2020^{5}\\\\) (use compressed SEC, on testnet)\n",
    "* 0x12345deadbeef (use compressed SEC on mainnet)"
   ]
  },
  {
   "cell_type": "code",
   "execution_count": 17,
   "metadata": {},
   "outputs": [
    {
     "name": "stdout",
     "output_type": "stream",
     "text": [
      "mmTPbXQFxboEtNRkwfh6K51jvdtHLxGeMA\n",
      "mopVkxp8UhXqRYbCYJsbeE1h1fiF64jcoH\n",
      "1F1Pn2y6pDb68E5nYJJeba4TLg2U7B6KF1\n"
     ]
    }
   ],
   "source": [
    "# Exercise 5\n",
    "\n",
    "from ecc import PrivateKey\n",
    "\n",
    "# 5002 (use uncompressed SEC, on testnet)\n",
    "prk1_point = PrivateKey(5002).point\n",
    "print(prk1_point.address(compressed=False, testnet=True))\n",
    "# 2020**5 (use compressed SEC, on testnet)\n",
    "prk2_point = PrivateKey(2020**5).point\n",
    "print(prk2_point.address(compressed=True, testnet=True))\n",
    "# 0x12345deadbeef (use compressed SEC on mainnet)\n",
    "prk3_point = PrivateKey(0x12345deadbeef).point\n",
    "print(prk3_point.address(compressed=True, testnet=False))"
   ]
  },
  {
   "cell_type": "markdown",
   "metadata": {},
   "source": [
    "### Exercise 6\n",
    "\n",
    "Find the WIF for Private Key whose secrets are:\n",
    "\n",
    "* 5003 (compressed, testnet)\n",
    "* \\\\(2021^{5}\\\\) (uncompressed, testnet)\n",
    "* 0x54321deadbeef (compressed, mainnet)"
   ]
  },
  {
   "cell_type": "code",
   "execution_count": 19,
   "metadata": {},
   "outputs": [
    {
     "name": "stdout",
     "output_type": "stream",
     "text": [
      "cMahea7zqjxrtgAbB7LSGbcQUr1uX1ojuat9jZodMN8rFTv2sfUK\n",
      "91avARGdfge8E4tZfYLoxeJ5sGBdNJQH4kvjpWAxgzczjbCwxic\n",
      "KwDiBf89QgGbjEhKnhXJuH7LrciVrZi3qYjgiuQJv1h8Ytr2S53a\n"
     ]
    }
   ],
   "source": [
    "# Exercise 6\n",
    "\n",
    "from ecc import PrivateKey\n",
    "\n",
    "def pidor(point, compressed, testnet):\n",
    "    p = PrivateKey(point)\n",
    "    print(p.wif(compressed, testnet))\n",
    "\n",
    "# 5003\n",
    "pidor(5003, True, True)\n",
    "# 2021**5\n",
    "pidor(2021**5, False, True)\n",
    "# 0x54321deadbeef\n",
    "pidor(0x54321deadbeef, True, False)"
   ]
  },
  {
   "cell_type": "markdown",
   "metadata": {},
   "source": [
    "### Exercise 7\n",
    "\n",
    "Write a function `little_endian_to_int` which takes Python bytes, interprets those bytes in Little-Endian and returns the number.\n",
    "\n",
    "#### Make [this test](/edit/code-ch04/helper.py) pass: `helper.py:HelperTest:test_little_endian_to_int`"
   ]
  },
  {
   "cell_type": "code",
   "execution_count": 20,
   "metadata": {},
   "outputs": [
    {
     "name": "stderr",
     "output_type": "stream",
     "text": [
      ".\n",
      "----------------------------------------------------------------------\n",
      "Ran 1 test in 0.001s\n",
      "\n",
      "OK\n"
     ]
    }
   ],
   "source": [
    "# Exercise 7\n",
    "\n",
    "reload(helper)\n",
    "run(helper.HelperTest(\"test_little_endian_to_int\"))"
   ]
  },
  {
   "cell_type": "markdown",
   "metadata": {},
   "source": [
    "### Exercise 8\n",
    "\n",
    "Write a function `int_to_little_endian` which does the reverse of the last exercise.\n",
    "\n",
    "#### Make [this test](/edit/code-ch04/helper.py) pass: `helper.py:HelperTest:test_int_to_little_endian`"
   ]
  },
  {
   "cell_type": "code",
   "execution_count": 22,
   "metadata": {},
   "outputs": [
    {
     "name": "stderr",
     "output_type": "stream",
     "text": [
      ".\n",
      "----------------------------------------------------------------------\n",
      "Ran 1 test in 0.001s\n",
      "\n",
      "OK\n"
     ]
    }
   ],
   "source": [
    "# Exercise 8\n",
    "\n",
    "reload(helper)\n",
    "run(helper.HelperTest(\"test_int_to_little_endian\"))"
   ]
  },
  {
   "cell_type": "markdown",
   "metadata": {},
   "source": [
    "### Exercise 9\n",
    "\n",
    "Create a testnet address for yourself using a long secret that only you know. This is important as there are bots on testnet trying to steal testnet coins. Make sure you write this secret down somewhere! You will be using the secret later to sign Transactions."
   ]
  },
  {
   "cell_type": "code",
   "execution_count": 26,
   "metadata": {},
   "outputs": [
    {
     "name": "stdout",
     "output_type": "stream",
     "text": [
      "miFF3BSh2FGSZ6qYyZG1bCJeUpg5eMReZ7\n"
     ]
    }
   ],
   "source": [
    "# Exercise 9\n",
    "\n",
    "from ecc import PrivateKey\n",
    "from helper import hash256, little_endian_to_int\n",
    "\n",
    "# select a passphrase here, add your email address into the passphrase for security\n",
    "passphrase = b'your@email.address TY PIDOR'\n",
    "secret = little_endian_to_int(hash256(passphrase))\n",
    "# create a private key using your secret\n",
    "pk = PrivateKey(secret)\n",
    "# print an address from the public point of the private key with testnet=True\n",
    "print(pk.point.address(testnet=True))"
   ]
  },
  {
   "cell_type": "code",
   "execution_count": null,
   "metadata": {},
   "outputs": [],
   "source": []
  }
 ],
 "metadata": {
  "kernelspec": {
   "display_name": "Python 3",
   "language": "python",
   "name": "python3"
  },
  "language_info": {
   "codemirror_mode": {
    "name": "ipython",
    "version": 3
   },
   "file_extension": ".py",
   "mimetype": "text/x-python",
   "name": "python",
   "nbconvert_exporter": "python",
   "pygments_lexer": "ipython3",
   "version": "3.8.2"
  }
 },
 "nbformat": 4,
 "nbformat_minor": 2
}
